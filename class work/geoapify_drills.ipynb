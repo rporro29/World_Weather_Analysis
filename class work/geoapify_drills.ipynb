{
 "cells": [
  {
   "cell_type": "markdown",
   "metadata": {},
   "source": [
    "# Geoapify Drills\n",
    "\n",
    "Create code to answer each of the following questions.\n",
    "\n",
    "> **Hint:** You will need multiple target URLs and multiple API requests."
   ]
  },
  {
   "cell_type": "code",
   "execution_count": 1,
   "metadata": {},
   "outputs": [],
   "source": [
    "# Dependencies\n",
    "import requests\n",
    "import json\n",
    "\n",
    "# Import the API key\n",
    "from config import geoapify_key"
   ]
  },
  {
   "cell_type": "markdown",
   "metadata": {},
   "source": [
    "## 1. What are the geocoordinates (latitude and longitude) of Brisbane, Australia?"
   ]
  },
  {
   "cell_type": "code",
   "execution_count": 4,
   "metadata": {},
   "outputs": [
    {
     "name": "stdout",
     "output_type": "stream",
     "text": [
      "{\n",
      "    \"features\": [\n",
      "        {\n",
      "            \"bbox\": [\n",
      "                152.679693,\n",
      "                -27.660219,\n",
      "                153.468275,\n",
      "                -27.022014\n",
      "            ],\n",
      "            \"geometry\": {\n",
      "                \"coordinates\": [\n",
      "                    153.0234991,\n",
      "                    -27.4689682\n",
      "                ],\n",
      "                \"type\": \"Point\"\n",
      "            },\n",
      "            \"properties\": {\n",
      "                \"address_line1\": \"Brisbane City\",\n",
      "                \"address_line2\": \"QLD, Australia\",\n",
      "                \"category\": \"administrative\",\n",
      "                \"city\": \"Brisbane City\",\n",
      "                \"country\": \"Australia\",\n",
      "                \"country_code\": \"au\",\n",
      "                \"datasource\": {\n",
      "                    \"attribution\": \"\\u00a9 OpenStreetMap contributors\",\n",
      "                    \"license\": \"Open Database License\",\n",
      "                    \"sourcename\": \"openstreetmap\",\n",
      "                    \"url\": \"https://www.openstreetmap.org/copyright\"\n",
      "                },\n",
      "                \"distance\": 0,\n",
      "                \"formatted\": \"Brisbane City, QLD, Australia\",\n",
      "                \"lat\": -27.4689682,\n",
      "                \"lon\": 153.0234991,\n",
      "                \"place_id\": \"51893f2f81c0206340592eddc94c0e783bc0f00101f9016030b20000000000c00208\",\n",
      "                \"rank\": {\n",
      "                    \"confidence\": 1,\n",
      "                    \"confidence_city_level\": 1,\n",
      "                    \"importance\": 0.8694082277592821,\n",
      "                    \"match_type\": \"full_match\",\n",
      "                    \"popularity\": 6.876406158741578\n",
      "                },\n",
      "                \"result_type\": \"city\",\n",
      "                \"state\": \"Queensland\",\n",
      "                \"state_code\": \"QLD\",\n",
      "                \"timezone\": {\n",
      "                    \"abbreviation_DST\": \"AEST\",\n",
      "                    \"abbreviation_STD\": \"AEST\",\n",
      "                    \"name\": \"Australia/Brisbane\",\n",
      "                    \"offset_DST\": \"+10:00\",\n",
      "                    \"offset_DST_seconds\": 36000,\n",
      "                    \"offset_STD\": \"+10:00\",\n",
      "                    \"offset_STD_seconds\": 36000\n",
      "                }\n",
      "            },\n",
      "            \"type\": \"Feature\"\n",
      "        }\n",
      "    ],\n",
      "    \"query\": {\n",
      "        \"parsed\": {\n",
      "            \"city\": \"brisbane\",\n",
      "            \"country\": \"australia\",\n",
      "            \"expected_type\": \"city\"\n",
      "        },\n",
      "        \"text\": \"Brisbane, Australia\"\n",
      "    },\n",
      "    \"type\": \"FeatureCollection\"\n",
      "}\n"
     ]
    }
   ],
   "source": [
    "target_city = \"Brisbane, Australia\"\n",
    "\n",
    "params = {\n",
    "    \"text\": target_city,\n",
    "    \"apiKey\": geoapify_key\n",
    "}\n",
    "\n",
    "\n",
    "base_url = \"https://api.geoapify.com/v1/geocode/search\"\n",
    "\n",
    "response = requests.get(base_url, params=params).json()\n",
    "\n",
    "print(json.dumps(response, indent=4, sort_keys=True))\n",
    "\n"
   ]
  },
  {
   "cell_type": "markdown",
   "metadata": {},
   "source": [
    "## 2. What are the geocoordinates (latitude and longitude) of The Sydney Opera House?"
   ]
  },
  {
   "cell_type": "code",
   "execution_count": null,
   "metadata": {},
   "outputs": [],
   "source": [
    "# YOUR CODE HERE"
   ]
  },
  {
   "cell_type": "markdown",
   "metadata": {},
   "source": [
    "## 3. Find the name and address of a pharmacy in Brisbane, Australia.\n",
    "\n",
    "> **Hint:** Review <https://apidocs.geoapify.com/docs/places/#categories>."
   ]
  },
  {
   "cell_type": "code",
   "execution_count": null,
   "metadata": {},
   "outputs": [],
   "source": [
    "# YOUR CODE HERE"
   ]
  },
  {
   "cell_type": "markdown",
   "metadata": {},
   "source": [
    "## 4. Find a pet shop within a 5km radius from the Sydney Opera House."
   ]
  },
  {
   "cell_type": "code",
   "execution_count": null,
   "metadata": {},
   "outputs": [],
   "source": [
    "# YOUR CODE HERE"
   ]
  },
  {
   "cell_type": "markdown",
   "metadata": {},
   "source": [
    "## 5. Find the nearest dentist to your house.\n",
    "\n",
    "> **Hint:** Use Geoapify Geocode to find your latitude and Geoapify Places to find the dentist."
   ]
  },
  {
   "cell_type": "code",
   "execution_count": null,
   "metadata": {},
   "outputs": [],
   "source": [
    "# YOUR CODE HERE"
   ]
  },
  {
   "cell_type": "markdown",
   "metadata": {},
   "source": [
    "## 6. Bonus: Find the names and addresses of the five nearest restaurants with internet access in your home city area.\n",
    "\n",
    "> **Hint:** Read about the `proximity` bias to order the results from the nearest to the farest place. Also, read about the `conditions` to identify places that provide internet access."
   ]
  },
  {
   "cell_type": "code",
   "execution_count": null,
   "metadata": {},
   "outputs": [],
   "source": [
    "# YOUR CODE HERE"
   ]
  }
 ],
 "metadata": {
  "kernelspec": {
   "display_name": "Python 3 (ipykernel)",
   "language": "python",
   "name": "python3"
  },
  "language_info": {
   "codemirror_mode": {
    "name": "ipython",
    "version": 3
   },
   "file_extension": ".py",
   "mimetype": "text/x-python",
   "name": "python",
   "nbconvert_exporter": "python",
   "pygments_lexer": "ipython3",
   "version": "3.9.13"
  }
 },
 "nbformat": 4,
 "nbformat_minor": 4
}
